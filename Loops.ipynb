{
 "cells": [
  {
   "cell_type": "code",
   "execution_count": null,
   "metadata": {},
   "outputs": [],
   "source": [
    "x = 0\n",
    "while x < 3:\n",
    "    print(' - iteration #{}'.format(x))\n",
    "    x = x + 1\n",
    "print('While loop ended\\n')\n",
    "\n",
    "for i in [1, 2, 3]:\n",
    "    print(i)\n",
    "print('For loop ended\\n')\n",
    "\n",
    "for i in 'abc':\n",
    "    print(i)\n",
    "print('End of looping over a string\\n')\n",
    "\n",
    "# list comprehension\n",
    "l = [i * i for i in [1, 2, 3, 4]]\n",
    "print(l)"
   ]
  }
 ],
 "metadata": {
  "kernelspec": {
   "display_name": "Python 3",
   "language": "python",
   "name": "python3"
  },
  "language_info": {
   "codemirror_mode": {
    "name": "ipython",
    "version": 3
   },
   "file_extension": ".py",
   "mimetype": "text/x-python",
   "name": "python",
   "nbconvert_exporter": "python",
   "pygments_lexer": "ipython3",
   "version": "3.7.4"
  }
 },
 "nbformat": 4,
 "nbformat_minor": 2
}
