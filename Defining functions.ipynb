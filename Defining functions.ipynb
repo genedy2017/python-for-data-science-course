{
 "cells": [
  {
   "cell_type": "code",
   "execution_count": null,
   "metadata": {},
   "outputs": [],
   "source": [
    "import numpy as np\n",
    "\n",
    "def dice(num=1, throws=1):\n",
    "    tries = []\n",
    "    while throws > 0:\n",
    "        tries.append([np.random.randint(1, 7) for i in range(0, num)])\n",
    "        throws = throws - 1\n",
    "    return tries\n",
    "\n",
    "print('    dice(): {}'.format(dice()))\n",
    "print('   dice(2): {}'.format(dice(2)))\n",
    "print('dice(2, 5): {}'.format(dice(2, 5)))\n",
    "print()\n",
    "print('No need to remember parameter order ... just name your parameters!')\n",
    "print('dice(throws=4, num=3): {}'.format(dice(throws=4, num=3)))"
   ]
  }
 ],
 "metadata": {
  "kernelspec": {
   "display_name": "Python 3",
   "language": "python",
   "name": "python3"
  },
  "language_info": {
   "codemirror_mode": {
    "name": "ipython",
    "version": 3
   },
   "file_extension": ".py",
   "mimetype": "text/x-python",
   "name": "python",
   "nbconvert_exporter": "python",
   "pygments_lexer": "ipython3",
   "version": "3.7.4"
  }
 },
 "nbformat": 4,
 "nbformat_minor": 2
}
