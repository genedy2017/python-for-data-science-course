{
 "cells": [
  {
   "cell_type": "code",
   "execution_count": null,
   "metadata": {},
   "outputs": [],
   "source": [
    "import pandas as pd\n",
    "data = pd.read_csv('uber-raw-data-apr14.csv', parse_dates=[0])"
   ]
  },
  {
   "cell_type": "code",
   "execution_count": null,
   "metadata": {},
   "outputs": [],
   "source": [
    "data.head()"
   ]
  },
  {
   "cell_type": "code",
   "execution_count": null,
   "metadata": {},
   "outputs": [],
   "source": [
    "data['Day'] = data['Date/Time'].astype('str').str.slice(8, 10).astype('int')\n",
    "data['DOW'] = data['Date/Time'].dt.dayofweek # Monday = 0, Sunday = 6\n",
    "data['Hour'] = data['Date/Time'].dt.hour\n",
    "data.tail()"
   ]
  },
  {
   "cell_type": "code",
   "execution_count": null,
   "metadata": {},
   "outputs": [],
   "source": [
    "import matplotlib.pyplot as plt\n",
    "%matplotlib inline\n",
    "\n",
    "plt.rcParams['figure.figsize'] = (12, 4)\n",
    "\n",
    "plt.hist(data.Hour, bins=24, rwidth=.9)\n",
    "plt.show()"
   ]
  },
  {
   "cell_type": "code",
   "execution_count": null,
   "metadata": {},
   "outputs": [],
   "source": [
    "f, axes = plt.subplots(7, 1, figsize=(15,15))\n",
    "days = ['Mon', 'Tue', 'Wed', 'Thu', 'Fri', 'Sat', 'Sun']\n",
    "\n",
    "for i in range(0, 7):\n",
    "    axes[i].hist(data[data.DOW == i].Hour, bins=24, rwidth=.9, stacked=True, label=days[i])\n",
    "    axes[i].legend()\n",
    "plt.show()"
   ]
  },
  {
   "cell_type": "code",
   "execution_count": null,
   "metadata": {},
   "outputs": [],
   "source": [
    "earlySun = data[(data.DOW == 6) & ((data.Hour == 0) | (data.Hour == 1))]\n",
    "\n",
    "f, axes = plt.subplots(1,1, figsize=(15,10))\n",
    "axes.scatter(data.Lon, data.Lat, s=1, c='b')\n",
    "axes.scatter(earlySun.Lon, earlySun.Lat, s=1, c='r')\n",
    "plt.xlim(-74.2, -73.8)\n",
    "plt.ylim(40.5, 41)\n",
    "plt.show()"
   ]
  }
 ],
 "metadata": {
  "kernelspec": {
   "display_name": "Python 3",
   "language": "python",
   "name": "python3"
  },
  "language_info": {
   "codemirror_mode": {
    "name": "ipython",
    "version": 3
   },
   "file_extension": ".py",
   "mimetype": "text/x-python",
   "name": "python",
   "nbconvert_exporter": "python",
   "pygments_lexer": "ipython3",
   "version": "3.7.4"
  }
 },
 "nbformat": 4,
 "nbformat_minor": 2
}
