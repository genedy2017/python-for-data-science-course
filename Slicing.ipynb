{
 "cells": [
  {
   "cell_type": "markdown",
   "metadata": {},
   "source": [
    "### Slices are specified as [start:end:step]"
   ]
  },
  {
   "cell_type": "code",
   "execution_count": null,
   "metadata": {},
   "outputs": [],
   "source": [
    "name = 'p y t h o n   i s   c o o l'\n",
    "print(name[0:11])\n",
    "print(name[:11])\n",
    "print(name[:])\n",
    "print(name[::2])\n",
    "\n",
    "nums = list(range(0, 31, 3))\n",
    "print(nums)\n",
    "print(nums[::3])\n",
    "print(nums[-4:])\n",
    "print(nums[-1::-1])"
   ]
  }
 ],
 "metadata": {
  "kernelspec": {
   "display_name": "Python 3",
   "language": "python",
   "name": "python3"
  },
  "language_info": {
   "codemirror_mode": {
    "name": "ipython",
    "version": 3
   },
   "file_extension": ".py",
   "mimetype": "text/x-python",
   "name": "python",
   "nbconvert_exporter": "python",
   "pygments_lexer": "ipython3",
   "version": "3.7.4"
  }
 },
 "nbformat": 4,
 "nbformat_minor": 2
}
