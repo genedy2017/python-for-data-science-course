{
 "cells": [
  {
   "cell_type": "code",
   "execution_count": null,
   "metadata": {},
   "outputs": [],
   "source": [
    "x = True\n",
    "y = 'this is a string'\n",
    "z = 2.4\n",
    "a = 55\n",
    "list1D = [x, y, z, a]\n",
    "tuple1D = (x, y, z)\n",
    "dict = { 'egypt': 'cairo', 'population': 100000000 }\n",
    "\n",
    "print(list1D)\n",
    "print(dict['egypt'])\n",
    "print(\n",
    "    [[type(x),     type(y),      type(z)      ],\n",
    "     [type(a),     type(list1D), type(tuple1D)],\n",
    "     [type(dict)                              ]]\n",
    ")\n",
    "print(\n",
    "    'Length of: y: {}, list1D: {}, tuple1D: {}, dict: {}'\n",
    "    .format(len(y), len(list1D), len(tuple1D), len(dict))\n",
    ")"
   ]
  }
 ],
 "metadata": {
  "kernelspec": {
   "display_name": "Python 3",
   "language": "python",
   "name": "python3"
  },
  "language_info": {
   "codemirror_mode": {
    "name": "ipython",
    "version": 3
   },
   "file_extension": ".py",
   "mimetype": "text/x-python",
   "name": "python",
   "nbconvert_exporter": "python",
   "pygments_lexer": "ipython3",
   "version": "3.7.4"
  },
  "widgets": {
   "application/vnd.jupyter.widget-state+json": {
    "state": {},
    "version_major": 2,
    "version_minor": 0
   }
  }
 },
 "nbformat": 4,
 "nbformat_minor": 2
}
