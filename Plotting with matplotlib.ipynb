{
 "cells": [
  {
   "cell_type": "code",
   "execution_count": null,
   "metadata": {},
   "outputs": [],
   "source": [
    "from numpy.random import rand, randn\n",
    "import matplotlib.pyplot as plt\n",
    "%matplotlib inline\n",
    "\n",
    "# generate 10000 normally-distributed random numbers\n",
    "n = randn(10000)\n",
    "plt.hist(n, bins=50)\n",
    "plt.show()"
   ]
  },
  {
   "cell_type": "code",
   "execution_count": null,
   "metadata": {},
   "outputs": [],
   "source": [
    "n = 2000 # number of point per series\n",
    "\n",
    "# random x values\n",
    "x = rand(n) * 100 # uniformly distributed randoms from 0 to 100\n",
    "\n",
    "y1 = randn(n) # normally distributed randoms\n",
    "y2 = randn(n) + 3 # normally distributed randoms, shifted by 3\n",
    "y3 = randn(n) - 3 # normally distributed randoms, shifted by -3\n",
    "\n",
    "# set plot size (width, height)\n",
    "plt.rcParams['figure.figsize'] = (12, 4)\n",
    "\n",
    "plt.plot(x, y1, '.r', label='y1')\n",
    "plt.plot(x, y2, '.b', label='y2')\n",
    "plt.plot(x, y3, '.g', label='y3')\n",
    "plt.legend(loc='upper right')\n",
    "plt.xlim(-10, 110)\n",
    "\n",
    "plt.show()"
   ]
  }
 ],
 "metadata": {
  "kernelspec": {
   "display_name": "Python 3",
   "language": "python",
   "name": "python3"
  },
  "language_info": {
   "codemirror_mode": {
    "name": "ipython",
    "version": 3
   },
   "file_extension": ".py",
   "mimetype": "text/x-python",
   "name": "python",
   "nbconvert_exporter": "python",
   "pygments_lexer": "ipython3",
   "version": "3.7.4"
  }
 },
 "nbformat": 4,
 "nbformat_minor": 2
}
