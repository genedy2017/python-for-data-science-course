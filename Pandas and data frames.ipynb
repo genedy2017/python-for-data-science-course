{
 "cells": [
  {
   "cell_type": "code",
   "execution_count": null,
   "metadata": {},
   "outputs": [],
   "source": [
    "import pandas as pd\n",
    "df = pd.DataFrame(\n",
    "    data = [\n",
    "        ['M', 'Morad Hussein', '2001-10-04', 88, 90, 84, 91, 77],\n",
    "        ['M', 'Ahmed Zaky',    '2001-08-12', 64, 69, 87, 76, 81],\n",
    "        ['F', 'Noura Yousry',  '2002-01-08', 91, 89, 87, 94, 96],\n",
    "        ['F', 'Soha Nagib',    '2001-09-22', 71, 59, 65, 77, 68],\n",
    "        ['M', 'Edward Fahmy',  '2001-06-19', 85, 75, 87, 76, 81],\n",
    "    ],\n",
    "    columns=['Gender', 'Name', 'Birthdate', 'Math', 'Physics', \n",
    "             'Chemistry', 'Biology', 'Literature']\n",
    ")\n",
    "df['Total'] = df.Math + df.Physics + df.Chemistry + df.Biology + df.Literature\n",
    "df['Score'] = pd.np.where(\n",
    "    df.Total >= 420, 'A', \n",
    "    pd.np.where(df.Total >= 350, 'B', \n",
    "    pd.np.where(df.Total >= 300, 'C', \n",
    "    pd.np.where(df.Total >= 250, 'D', \n",
    "    pd.np.where(df.Total >= 200, 'E',\n",
    "    'F'\n",
    ")))))\n",
    "df"
   ]
  }
 ],
 "metadata": {
  "kernelspec": {
   "display_name": "Python 3",
   "language": "python",
   "name": "python3"
  },
  "language_info": {
   "codemirror_mode": {
    "name": "ipython",
    "version": 3
   },
   "file_extension": ".py",
   "mimetype": "text/x-python",
   "name": "python",
   "nbconvert_exporter": "python",
   "pygments_lexer": "ipython3",
   "version": "3.7.4"
  }
 },
 "nbformat": 4,
 "nbformat_minor": 2
}
