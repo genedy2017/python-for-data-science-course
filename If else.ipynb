{
 "cells": [
  {
   "cell_type": "code",
   "execution_count": null,
   "metadata": {},
   "outputs": [],
   "source": [
    "import numpy as np\n",
    "\n",
    "# DICE GAME\n",
    "# Throw 2 dices\n",
    "# If same number on both => BINGO!\n",
    "# Else If sum > 8 => WINNER!\n",
    "# Else => LOOSER!\n",
    "dice = [np.random.randint(1, 7) for i in [1, 2]]\n",
    "print('Dices: {}, Sum: {}'.format(dice, sum(dice)))\n",
    "\n",
    "if dice[0] == dice[1]:\n",
    "    print('BINGO!!')\n",
    "elif sum(dice) > 8:\n",
    "    print('WINNER!')\n",
    "else:\n",
    "    print('LOOSER!')\n",
    "    "
   ]
  }
 ],
 "metadata": {
  "kernelspec": {
   "display_name": "Python 3",
   "language": "python",
   "name": "python3"
  },
  "language_info": {
   "codemirror_mode": {
    "name": "ipython",
    "version": 3
   },
   "file_extension": ".py",
   "mimetype": "text/x-python",
   "name": "python",
   "nbconvert_exporter": "python",
   "pygments_lexer": "ipython3",
   "version": "3.7.4"
  }
 },
 "nbformat": 4,
 "nbformat_minor": 2
}
